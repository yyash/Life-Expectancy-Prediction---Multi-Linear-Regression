{
 "cells": [
  {
   "cell_type": "markdown",
   "metadata": {
    "id": "E8A0yIDCtJLa"
   },
   "source": [
    "# Homework 1 - Linear Regression\n",
    "\n",
    "## Dataset\n",
    "The dataset you will be using is about Life expectancy of different countries. We will explore how immunization factors, mortality factors, economic factors, social factors and other health related factors affect Life expectancy of a country.\n",
    "\n",
    "There are two data files: \"LifeExpectancy_training.csv\" and \"LifeExpectancy_test.csv\"<br/>\n",
    "Both files have the following fields, except Life_expectancy which is not available in \"LifeExpectancy_test.csv\"\n",
    "\n",
    "Features :\n",
    "- Year : from 2000 to 2015\n",
    "- Status : Developed or Developing status\n",
    "- Adult_Mortality : Adult Mortality Rates of both sexes (probability of dying between 15 and 60 years per 1000 population)\n",
    "- Alcohol : Alcohol, recorded per capita (15+) consumption (in litres of pure alcohol)\n",
    "- percentage_expenditure : Expenditure on health as a percentage of Gross Domestic Product per capita(%)\n",
    "- BMI: Average Body Mass Index of entire population\n",
    "- Total_expenditure: General government expenditure on health as a percentage of total government expenditure (%)\n",
    "- Diphtheria: Diphtheria tetanus toxoid and pertussis (DTP3) immunization coverage among 1-year-olds (%)\n",
    "- HIV_AIDS: Deaths per 1000 live births HIV/AIDS (0-4 years)\n",
    "- GDP: Gross Domestic Product per capita (in USD)\n",
    "- Population\n",
    "- Income_composition_of_resources: Human Development Index in terms of income composition of resources (index ranging from 0 to 1)\n",
    "- Schooling: Number of years of Schooling(years)\n",
    "\n",
    "Target:\n",
    "- Life_expectancy: Life Expectancy in age\n",
    "\n",
    "\n",
    "Training dataset, \"LifeExpectancy_training.csv\", contains 1154 rows and 14 columns. This is the training set containing both of the features and the target.<br/>\n",
    "Test dataset, \"LifeExpectancy_test.csv\", contains 495 rows and 13 columns. This is the test set which only contains the features.<br/>\n",
    "\n",
    "Your goal is to predict Life expectancy based on the features."
   ]
  },
  {
   "cell_type": "code",
   "execution_count": 1,
   "metadata": {
    "id": "xwWTXsa30LLu"
   },
   "outputs": [],
   "source": [
    "import numpy as np\n",
    "import pandas as pd\n",
    "import seaborn as sns\n",
    "import matplotlib.pyplot as plt"
   ]
  },
  {
   "cell_type": "markdown",
   "metadata": {
    "id": "JGLaGzbL0jdH"
   },
   "source": [
    "Load the training data \"LifeExpectancy_training.csv\" in Colab and View the first 5 lines"
   ]
  },
  {
   "cell_type": "code",
   "execution_count": 2,
   "metadata": {
    "id": "viQgJ6uy03nd"
   },
   "outputs": [],
   "source": [
    "# Load the training data\n",
    "import io\n",
    "df_train = pd.read_csv('LifeExpectancy_training.csv')"
   ]
  },
  {
   "cell_type": "code",
   "execution_count": 3,
   "metadata": {
    "id": "bTxYGeoSxcKs"
   },
   "outputs": [
    {
     "data": {
      "text/html": [
       "<div>\n",
       "<style scoped>\n",
       "    .dataframe tbody tr th:only-of-type {\n",
       "        vertical-align: middle;\n",
       "    }\n",
       "\n",
       "    .dataframe tbody tr th {\n",
       "        vertical-align: top;\n",
       "    }\n",
       "\n",
       "    .dataframe thead th {\n",
       "        text-align: right;\n",
       "    }\n",
       "</style>\n",
       "<table border=\"1\" class=\"dataframe\">\n",
       "  <thead>\n",
       "    <tr style=\"text-align: right;\">\n",
       "      <th></th>\n",
       "      <th>Year</th>\n",
       "      <th>Status</th>\n",
       "      <th>Adult_Mortality</th>\n",
       "      <th>Alcohol</th>\n",
       "      <th>percentage_expenditure</th>\n",
       "      <th>BMI</th>\n",
       "      <th>Total_expenditure</th>\n",
       "      <th>Diphtheria</th>\n",
       "      <th>HIV_AIDS</th>\n",
       "      <th>GDP</th>\n",
       "      <th>Population</th>\n",
       "      <th>Income_composition_of_resources</th>\n",
       "      <th>Schooling</th>\n",
       "      <th>Life_expectancy</th>\n",
       "    </tr>\n",
       "  </thead>\n",
       "  <tbody>\n",
       "    <tr>\n",
       "      <th>0</th>\n",
       "      <td>2011</td>\n",
       "      <td>Developing</td>\n",
       "      <td>93</td>\n",
       "      <td>1.57</td>\n",
       "      <td>835.062683</td>\n",
       "      <td>64.0</td>\n",
       "      <td>7.12</td>\n",
       "      <td>81</td>\n",
       "      <td>0.1</td>\n",
       "      <td>8734.96530</td>\n",
       "      <td>4588368.0</td>\n",
       "      <td>0.758</td>\n",
       "      <td>13.2</td>\n",
       "      <td>75.0</td>\n",
       "    </tr>\n",
       "    <tr>\n",
       "      <th>1</th>\n",
       "      <td>2014</td>\n",
       "      <td>Developing</td>\n",
       "      <td>152</td>\n",
       "      <td>6.41</td>\n",
       "      <td>789.077295</td>\n",
       "      <td>32.4</td>\n",
       "      <td>4.12</td>\n",
       "      <td>99</td>\n",
       "      <td>0.1</td>\n",
       "      <td>5941.84710</td>\n",
       "      <td>68416772.0</td>\n",
       "      <td>0.737</td>\n",
       "      <td>13.6</td>\n",
       "      <td>74.6</td>\n",
       "    </tr>\n",
       "    <tr>\n",
       "      <th>2</th>\n",
       "      <td>2013</td>\n",
       "      <td>Developed</td>\n",
       "      <td>68</td>\n",
       "      <td>11.82</td>\n",
       "      <td>90.585012</td>\n",
       "      <td>56.6</td>\n",
       "      <td>11.14</td>\n",
       "      <td>95</td>\n",
       "      <td>0.1</td>\n",
       "      <td>554.71532</td>\n",
       "      <td>8479375.0</td>\n",
       "      <td>0.887</td>\n",
       "      <td>15.7</td>\n",
       "      <td>81.1</td>\n",
       "    </tr>\n",
       "    <tr>\n",
       "      <th>3</th>\n",
       "      <td>2014</td>\n",
       "      <td>Developed</td>\n",
       "      <td>135</td>\n",
       "      <td>0.01</td>\n",
       "      <td>1.576409</td>\n",
       "      <td>59.9</td>\n",
       "      <td>5.57</td>\n",
       "      <td>94</td>\n",
       "      <td>0.1</td>\n",
       "      <td>12.27733</td>\n",
       "      <td>1998979.0</td>\n",
       "      <td>0.797</td>\n",
       "      <td>14.7</td>\n",
       "      <td>74.8</td>\n",
       "    </tr>\n",
       "    <tr>\n",
       "      <th>4</th>\n",
       "      <td>2002</td>\n",
       "      <td>Developing</td>\n",
       "      <td>192</td>\n",
       "      <td>5.93</td>\n",
       "      <td>27.638103</td>\n",
       "      <td>2.2</td>\n",
       "      <td>3.70</td>\n",
       "      <td>96</td>\n",
       "      <td>0.7</td>\n",
       "      <td>296.54617</td>\n",
       "      <td>6473164.0</td>\n",
       "      <td>0.657</td>\n",
       "      <td>11.5</td>\n",
       "      <td>71.4</td>\n",
       "    </tr>\n",
       "  </tbody>\n",
       "</table>\n",
       "</div>"
      ],
      "text/plain": [
       "   Year      Status  Adult_Mortality  Alcohol  percentage_expenditure   BMI  \\\n",
       "0  2011  Developing               93     1.57              835.062683  64.0   \n",
       "1  2014  Developing              152     6.41              789.077295  32.4   \n",
       "2  2013   Developed               68    11.82               90.585012  56.6   \n",
       "3  2014   Developed              135     0.01                1.576409  59.9   \n",
       "4  2002  Developing              192     5.93               27.638103   2.2   \n",
       "\n",
       "   Total_expenditure  Diphtheria  HIV_AIDS         GDP  Population  \\\n",
       "0               7.12          81       0.1  8734.96530   4588368.0   \n",
       "1               4.12          99       0.1  5941.84710  68416772.0   \n",
       "2              11.14          95       0.1   554.71532   8479375.0   \n",
       "3               5.57          94       0.1    12.27733   1998979.0   \n",
       "4               3.70          96       0.7   296.54617   6473164.0   \n",
       "\n",
       "   Income_composition_of_resources  Schooling  Life_expectancy  \n",
       "0                            0.758       13.2             75.0  \n",
       "1                            0.737       13.6             74.6  \n",
       "2                            0.887       15.7             81.1  \n",
       "3                            0.797       14.7             74.8  \n",
       "4                            0.657       11.5             71.4  "
      ]
     },
     "execution_count": 3,
     "metadata": {},
     "output_type": "execute_result"
    }
   ],
   "source": [
    "# Show the first 5 lines\n",
    "### WRITE CODE ###\n",
    "df_train.head()"
   ]
  },
  {
   "cell_type": "markdown",
   "metadata": {
    "id": "kIRo3Da91IdF"
   },
   "source": [
    "## Data Exploration\n",
    "We can plot a histogram of the dataframe for the features except \"Status\" to understand their distributions. <br/>"
   ]
  },
  {
   "cell_type": "code",
   "execution_count": 4,
   "metadata": {
    "id": "iemQk82B3Nam"
   },
   "outputs": [
    {
     "data": {
      "text/plain": [
       "array([[<AxesSubplot:title={'center':'Year'}>,\n",
       "        <AxesSubplot:title={'center':'Adult_Mortality'}>,\n",
       "        <AxesSubplot:title={'center':'Alcohol'}>,\n",
       "        <AxesSubplot:title={'center':'percentage_expenditure'}>],\n",
       "       [<AxesSubplot:title={'center':'BMI'}>,\n",
       "        <AxesSubplot:title={'center':'Total_expenditure'}>,\n",
       "        <AxesSubplot:title={'center':'Diphtheria'}>,\n",
       "        <AxesSubplot:title={'center':'HIV_AIDS'}>],\n",
       "       [<AxesSubplot:title={'center':'GDP'}>,\n",
       "        <AxesSubplot:title={'center':'Population'}>,\n",
       "        <AxesSubplot:title={'center':'Income_composition_of_resources'}>,\n",
       "        <AxesSubplot:title={'center':'Schooling'}>],\n",
       "       [<AxesSubplot:title={'center':'Life_expectancy'}>, <AxesSubplot:>,\n",
       "        <AxesSubplot:>, <AxesSubplot:>]], dtype=object)"
      ]
     },
     "execution_count": 4,
     "metadata": {},
     "output_type": "execute_result"
    },
    {
     "data": {
      "image/png": "[encoded data removed]",
      "text/plain": [
       "<Figure size 1440x2160 with 16 Axes>"
      ]
     },
     "metadata": {
      "needs_background": "light"
     },
     "output_type": "display_data"
    }
   ],
   "source": [
    "### WRITE CODE TO OBTAIN AND DISPLAY HISTOGRAMS ###\n",
    "df_train_wo_year = df_train.drop(labels = ['Status'], axis = 1)\n",
    "df_train_wo_year.hist(bins = 30, figsize = (20,30))"
   ]
  },
  {
   "cell_type": "markdown",
   "metadata": {
    "id": "_XD0AGPM5eaD"
   },
   "source": [
    "##### Q1. What can you infer from the histograms? <br/>\n",
    "Ans- \n"
   ]
  },
  {
   "cell_type": "markdown",
   "metadata": {
    "id": "xmq41MOV9Z8d"
   },
   "source": [
    "Compute the correlation matrix to get an understanding of the correlation between life_expectancy and the other features.<br/>"
   ]
  },
  {
   "cell_type": "code",
   "execution_count": 5,
   "metadata": {
    "id": "WmuZTzx29bkO"
   },
   "outputs": [
    {
     "data": {
      "text/plain": [
       "<AxesSubplot:>"
      ]
     },
     "execution_count": 5,
     "metadata": {},
     "output_type": "execute_result"
    },
    {
     "data": {
      "image/png": "[encoded data removed]",
      "text/plain": [
       "<Figure size 720x360 with 2 Axes>"
      ]
     },
     "metadata": {
      "needs_background": "light"
     },
     "output_type": "display_data"
    }
   ],
   "source": [
    "### WRITE CODE TO OBTAIN CORRELATION MATRIX ###\n",
    "df_train.corr()\n",
    "fig, ax = plt.subplots(figsize=(10,5))\n",
    "sns.heatmap(df_train.corr(), annot=True, ax = ax)"
   ]
  },
  {
   "cell_type": "markdown",
   "metadata": {
    "id": "8UpsTJyw97FZ"
   },
   "source": [
    "##### Answer the following questions:<br/>\n",
    "\n",
    "##### Q2. Why is the diagonal made up of 1's in the correlation matrix?<br/>\n",
    "Ans- Each parameter in the sample is correlated with itself. This is why the diagonals are made up of 1s.\n",
    "\n",
    "##### Q3. Why is the matrix symmetric along diagonal?<br/>\n",
    "Ans- The matrix is symmetric along the diagonal as the combination of parameters is also symmetric along the diagonal and the Corr(X1, X2) = Corr(X2,X1)\n",
    "\n",
    "##### Q4. Looking at the correlation matrix, if you have to choose one predictor for a simple linear regression model with Life_expectancy as the outcome, which one would you choose and why? <br/>\n",
    "Ans-The predictor would be Schooling as it has the highest correlation among all the predictors with the target Life_expectancy\n"
   ]
  },
  {
   "cell_type": "markdown",
   "metadata": {
    "id": "jYvGzY8Z-ni-"
   },
   "source": [
    "### Standardization of features"
   ]
  },
  {
   "cell_type": "markdown",
   "metadata": {
    "id": "Jhq-T3Ed-r8w"
   },
   "source": [
    "Feature standardization makes the values of each feature in the data have zero-mean and unit-variance. This method is widely used for normalization in many machine learning algorithms. The general method of calculation is to determine the distribution mean and standard deviation for each feature. Next we subtract the mean from each feature. Then we divide the values of each feature by its standard deviation.\n",
    "\n",
    "$x'$ = ($x$ - $\\bar{x}$)/$\\sigma$ \n",
    "\n",
    "where $x$ is the original feature vector,\n",
    "$\\bar{x}$ is the mean of the feature vector and\n",
    "$\\sigma$ is its standard deviation.\n",
    "\n",
    "This is also called Z-score Normalization. \n",
    "\n",
    "Perform Z-score Normalization on the features (except \"Year\" and \"Status\") in both training and test set. "
   ]
  },
  {
   "cell_type": "code",
   "execution_count": 6,
   "metadata": {
    "id": "iD2UmlarDHY_"
   },
   "outputs": [
    {
     "data": {
      "text/html": [
       "<div>\n",
       "<style scoped>\n",
       "    .dataframe tbody tr th:only-of-type {\n",
       "        vertical-align: middle;\n",
       "    }\n",
       "\n",
       "    .dataframe tbody tr th {\n",
       "        vertical-align: top;\n",
       "    }\n",
       "\n",
       "    .dataframe thead th {\n",
       "        text-align: right;\n",
       "    }\n",
       "</style>\n",
       "<table border=\"1\" class=\"dataframe\">\n",
       "  <thead>\n",
       "    <tr style=\"text-align: right;\">\n",
       "      <th></th>\n",
       "      <th>Year</th>\n",
       "      <th>Status</th>\n",
       "      <th>Adult_Mortality</th>\n",
       "      <th>Alcohol</th>\n",
       "      <th>percentage_expenditure</th>\n",
       "      <th>BMI</th>\n",
       "      <th>Total_expenditure</th>\n",
       "      <th>Diphtheria</th>\n",
       "      <th>HIV_AIDS</th>\n",
       "      <th>GDP</th>\n",
       "      <th>Population</th>\n",
       "      <th>Income_composition_of_resources</th>\n",
       "      <th>Schooling</th>\n",
       "    </tr>\n",
       "  </thead>\n",
       "  <tbody>\n",
       "    <tr>\n",
       "      <th>0</th>\n",
       "      <td>2011</td>\n",
       "      <td>Developing</td>\n",
       "      <td>275</td>\n",
       "      <td>0.01</td>\n",
       "      <td>7.097109</td>\n",
       "      <td>17.2</td>\n",
       "      <td>7.87</td>\n",
       "      <td>68</td>\n",
       "      <td>0.1</td>\n",
       "      <td>63.537231</td>\n",
       "      <td>2978599.0</td>\n",
       "      <td>0.454</td>\n",
       "      <td>9.5</td>\n",
       "    </tr>\n",
       "    <tr>\n",
       "      <th>1</th>\n",
       "      <td>2008</td>\n",
       "      <td>Developing</td>\n",
       "      <td>287</td>\n",
       "      <td>0.03</td>\n",
       "      <td>25.873925</td>\n",
       "      <td>15.7</td>\n",
       "      <td>8.33</td>\n",
       "      <td>64</td>\n",
       "      <td>0.1</td>\n",
       "      <td>373.361116</td>\n",
       "      <td>2729431.0</td>\n",
       "      <td>0.433</td>\n",
       "      <td>8.7</td>\n",
       "    </tr>\n",
       "    <tr>\n",
       "      <th>2</th>\n",
       "      <td>2011</td>\n",
       "      <td>Developing</td>\n",
       "      <td>88</td>\n",
       "      <td>5.37</td>\n",
       "      <td>437.062100</td>\n",
       "      <td>55.1</td>\n",
       "      <td>5.71</td>\n",
       "      <td>99</td>\n",
       "      <td>0.1</td>\n",
       "      <td>4437.178680</td>\n",
       "      <td>295195.0</td>\n",
       "      <td>0.738</td>\n",
       "      <td>13.3</td>\n",
       "    </tr>\n",
       "    <tr>\n",
       "      <th>3</th>\n",
       "      <td>2005</td>\n",
       "      <td>Developing</td>\n",
       "      <td>15</td>\n",
       "      <td>5.16</td>\n",
       "      <td>26.993121</td>\n",
       "      <td>49.9</td>\n",
       "      <td>6.12</td>\n",
       "      <td>98</td>\n",
       "      <td>0.1</td>\n",
       "      <td>279.142931</td>\n",
       "      <td>311487.0</td>\n",
       "      <td>0.685</td>\n",
       "      <td>10.8</td>\n",
       "    </tr>\n",
       "    <tr>\n",
       "      <th>4</th>\n",
       "      <td>2003</td>\n",
       "      <td>Developing</td>\n",
       "      <td>18</td>\n",
       "      <td>4.29</td>\n",
       "      <td>14.719289</td>\n",
       "      <td>47.9</td>\n",
       "      <td>6.27</td>\n",
       "      <td>97</td>\n",
       "      <td>0.1</td>\n",
       "      <td>189.681557</td>\n",
       "      <td>339616.0</td>\n",
       "      <td>0.674</td>\n",
       "      <td>10.7</td>\n",
       "    </tr>\n",
       "  </tbody>\n",
       "</table>\n",
       "</div>"
      ],
      "text/plain": [
       "   Year      Status  Adult_Mortality  Alcohol  percentage_expenditure   BMI  \\\n",
       "0  2011  Developing              275     0.01                7.097109  17.2   \n",
       "1  2008  Developing              287     0.03               25.873925  15.7   \n",
       "2  2011  Developing               88     5.37              437.062100  55.1   \n",
       "3  2005  Developing               15     5.16               26.993121  49.9   \n",
       "4  2003  Developing               18     4.29               14.719289  47.9   \n",
       "\n",
       "   Total_expenditure  Diphtheria  HIV_AIDS          GDP  Population  \\\n",
       "0               7.87          68       0.1    63.537231   2978599.0   \n",
       "1               8.33          64       0.1   373.361116   2729431.0   \n",
       "2               5.71          99       0.1  4437.178680    295195.0   \n",
       "3               6.12          98       0.1   279.142931    311487.0   \n",
       "4               6.27          97       0.1   189.681557    339616.0   \n",
       "\n",
       "   Income_composition_of_resources  Schooling  \n",
       "0                            0.454        9.5  \n",
       "1                            0.433        8.7  \n",
       "2                            0.738       13.3  \n",
       "3                            0.685       10.8  \n",
       "4                            0.674       10.7  "
      ]
     },
     "execution_count": 6,
     "metadata": {},
     "output_type": "execute_result"
    }
   ],
   "source": [
    "# Load the test set \"LifeExpectancy_test.csv\"\n",
    "### WRITE CODE ###\n",
    "df_test = pd.read_csv('LifeExpectancy_test.csv')\n",
    "df_test.head()"
   ]
  },
  {
   "cell_type": "code",
   "execution_count": 7,
   "metadata": {},
   "outputs": [],
   "source": [
    "df_test_wo_categories = df_test.drop(labels = ['Year','Status'], axis = 1)\n",
    "df_train_wo_categories = df_train.drop(labels = ['Year','Status','Life_expectancy'], axis = 1)"
   ]
  },
  {
   "cell_type": "code",
   "execution_count": 8,
   "metadata": {
    "id": "a8Hu-t4eBphh"
   },
   "outputs": [
    {
     "data": {
      "text/html": [
       "<div>\n",
       "<style scoped>\n",
       "    .dataframe tbody tr th:only-of-type {\n",
       "        vertical-align: middle;\n",
       "    }\n",
       "\n",
       "    .dataframe tbody tr th {\n",
       "        vertical-align: top;\n",
       "    }\n",
       "\n",
       "    .dataframe thead th {\n",
       "        text-align: right;\n",
       "    }\n",
       "</style>\n",
       "<table border=\"1\" class=\"dataframe\">\n",
       "  <thead>\n",
       "    <tr style=\"text-align: right;\">\n",
       "      <th></th>\n",
       "      <th>Adult_Mortality</th>\n",
       "      <th>Alcohol</th>\n",
       "      <th>percentage_expenditure</th>\n",
       "      <th>BMI</th>\n",
       "      <th>Total_expenditure</th>\n",
       "      <th>Diphtheria</th>\n",
       "      <th>HIV_AIDS</th>\n",
       "      <th>GDP</th>\n",
       "      <th>Population</th>\n",
       "      <th>Income_composition_of_resources</th>\n",
       "      <th>Schooling</th>\n",
       "    </tr>\n",
       "  </thead>\n",
       "  <tbody>\n",
       "    <tr>\n",
       "      <th>0</th>\n",
       "      <td>-0.596230</td>\n",
       "      <td>-0.746122</td>\n",
       "      <td>0.058789</td>\n",
       "      <td>1.260316</td>\n",
       "      <td>0.455246</td>\n",
       "      <td>-0.172026</td>\n",
       "      <td>-0.304462</td>\n",
       "      <td>0.244064</td>\n",
       "      <td>-0.140504</td>\n",
       "      <td>0.668903</td>\n",
       "      <td>0.361049</td>\n",
       "    </tr>\n",
       "    <tr>\n",
       "      <th>1</th>\n",
       "      <td>-0.111399</td>\n",
       "      <td>0.462190</td>\n",
       "      <td>0.033498</td>\n",
       "      <td>-0.333480</td>\n",
       "      <td>-0.836894</td>\n",
       "      <td>0.686328</td>\n",
       "      <td>-0.304462</td>\n",
       "      <td>0.011425</td>\n",
       "      <td>0.961461</td>\n",
       "      <td>0.553909</td>\n",
       "      <td>0.505181</td>\n",
       "    </tr>\n",
       "    <tr>\n",
       "      <th>2</th>\n",
       "      <td>-0.801666</td>\n",
       "      <td>1.812804</td>\n",
       "      <td>-0.350645</td>\n",
       "      <td>0.887085</td>\n",
       "      <td>2.186713</td>\n",
       "      <td>0.495582</td>\n",
       "      <td>-0.304462</td>\n",
       "      <td>-0.437269</td>\n",
       "      <td>-0.073327</td>\n",
       "      <td>1.375298</td>\n",
       "      <td>1.261876</td>\n",
       "    </tr>\n",
       "    <tr>\n",
       "      <th>3</th>\n",
       "      <td>-0.251096</td>\n",
       "      <td>-1.135578</td>\n",
       "      <td>-0.399597</td>\n",
       "      <td>1.053526</td>\n",
       "      <td>-0.212360</td>\n",
       "      <td>0.447896</td>\n",
       "      <td>-0.304462</td>\n",
       "      <td>-0.482448</td>\n",
       "      <td>-0.185208</td>\n",
       "      <td>0.882465</td>\n",
       "      <td>0.901545</td>\n",
       "    </tr>\n",
       "    <tr>\n",
       "      <th>4</th>\n",
       "      <td>0.217300</td>\n",
       "      <td>0.342358</td>\n",
       "      <td>-0.385264</td>\n",
       "      <td>-1.856665</td>\n",
       "      <td>-1.017793</td>\n",
       "      <td>0.543269</td>\n",
       "      <td>-0.198197</td>\n",
       "      <td>-0.458771</td>\n",
       "      <td>-0.107964</td>\n",
       "      <td>0.115834</td>\n",
       "      <td>-0.251513</td>\n",
       "    </tr>\n",
       "  </tbody>\n",
       "</table>\n",
       "</div>"
      ],
      "text/plain": [
       "   Adult_Mortality   Alcohol  percentage_expenditure       BMI  \\\n",
       "0        -0.596230 -0.746122                0.058789  1.260316   \n",
       "1        -0.111399  0.462190                0.033498 -0.333480   \n",
       "2        -0.801666  1.812804               -0.350645  0.887085   \n",
       "3        -0.251096 -1.135578               -0.399597  1.053526   \n",
       "4         0.217300  0.342358               -0.385264 -1.856665   \n",
       "\n",
       "   Total_expenditure  Diphtheria  HIV_AIDS       GDP  Population  \\\n",
       "0           0.455246   -0.172026 -0.304462  0.244064   -0.140504   \n",
       "1          -0.836894    0.686328 -0.304462  0.011425    0.961461   \n",
       "2           2.186713    0.495582 -0.304462 -0.437269   -0.073327   \n",
       "3          -0.212360    0.447896 -0.304462 -0.482448   -0.185208   \n",
       "4          -1.017793    0.543269 -0.198197 -0.458771   -0.107964   \n",
       "\n",
       "   Income_composition_of_resources  Schooling  \n",
       "0                         0.668903   0.361049  \n",
       "1                         0.553909   0.505181  \n",
       "2                         1.375298   1.261876  \n",
       "3                         0.882465   0.901545  \n",
       "4                         0.115834  -0.251513  "
      ]
     },
     "execution_count": 8,
     "metadata": {},
     "output_type": "execute_result"
    }
   ],
   "source": [
    "from sklearn.preprocessing import StandardScaler\n",
    "### WRITE CODE TO PERFORM Z-score Normalization ###\n",
    "scaler = StandardScaler()\n",
    "df_train_wo_categories_scaled = pd.DataFrame(scaler.fit_transform(df_train_wo_categories), columns = df_train_wo_categories.columns)\n",
    "df_test_wo_categories_scaled = pd.DataFrame(scaler.fit_transform(df_test_wo_categories), columns = df_test_wo_categories.columns)\n",
    "\n",
    "df_train_wo_categories_scaled.head()"
   ]
  },
  {
   "cell_type": "markdown",
   "metadata": {
    "id": "zwfacAsAFBbs"
   },
   "source": [
    "##### Q5. What are the advantages and disadvantages of using Z-score Normalization?<br/>\n",
    "Ans- <br>\n",
    "Advantages - <br>\n",
    "outliers do not have the same influence on the models built from the dataset as they would have without normalization. <br>\n",
    "It allows us to compare two different scores from two different scales of normal distributions\n",
    "\n",
    "Disadvantages - \n",
    "You end up losing the meaningfulness of the raw values in the data so interpretability becomes difficult.\n",
    "\n",
    "\n",
    "##### Q6. In this dataset, do you need to use the Z-score Normalization? Explain.<br/>\n",
    "Ans- \n",
    "Yes, as there are the range of variance among the features is high so normalizing will help the model to build."
   ]
  },
  {
   "cell_type": "markdown",
   "metadata": {
    "id": "5tr1XcvyFIcN"
   },
   "source": [
    "### One-Hot Encoding"
   ]
  },
  {
   "cell_type": "markdown",
   "metadata": {
    "id": "fyyGwM3JFS4Y"
   },
   "source": [
    "\"Year\" and \"Status\" can only take discrete values. We need to perform one-hot encoding on discrete values for it to be processed in the model. One hot encoding is a process by which categorical variables are converted into a form that could be provided to ML algorithms to do a better job in prediction.\n",
    "Perform one-hot encoding on \"Year\" and \"Status\" and print the shape of your encoded array"
   ]
  },
  {
   "cell_type": "code",
   "execution_count": 9,
   "metadata": {
    "id": "CVbI2IVxFuHn"
   },
   "outputs": [
    {
     "name": "stdout",
     "output_type": "stream",
     "text": [
      "Shape of Year Train Data : (1154, 15)\n",
      "Shape of Status Train Data : (1154, 1)\n",
      "Shape of Year Test Data : (1154, 15)\n",
      "Shape of Status Test Data : (1154, 1)\n"
     ]
    },
    {
     "data": {
      "text/html": [
       "<div>\n",
       "<style scoped>\n",
       "    .dataframe tbody tr th:only-of-type {\n",
       "        vertical-align: middle;\n",
       "    }\n",
       "\n",
       "    .dataframe tbody tr th {\n",
       "        vertical-align: top;\n",
       "    }\n",
       "\n",
       "    .dataframe thead th {\n",
       "        text-align: right;\n",
       "    }\n",
       "</style>\n",
       "<table border=\"1\" class=\"dataframe\">\n",
       "  <thead>\n",
       "    <tr style=\"text-align: right;\">\n",
       "      <th></th>\n",
       "      <th>Status_Developing</th>\n",
       "    </tr>\n",
       "  </thead>\n",
       "  <tbody>\n",
       "    <tr>\n",
       "      <th>0</th>\n",
       "      <td>1.0</td>\n",
       "    </tr>\n",
       "    <tr>\n",
       "      <th>1</th>\n",
       "      <td>1.0</td>\n",
       "    </tr>\n",
       "    <tr>\n",
       "      <th>2</th>\n",
       "      <td>0.0</td>\n",
       "    </tr>\n",
       "    <tr>\n",
       "      <th>3</th>\n",
       "      <td>0.0</td>\n",
       "    </tr>\n",
       "    <tr>\n",
       "      <th>4</th>\n",
       "      <td>1.0</td>\n",
       "    </tr>\n",
       "  </tbody>\n",
       "</table>\n",
       "</div>"
      ],
      "text/plain": [
       "   Status_Developing\n",
       "0                1.0\n",
       "1                1.0\n",
       "2                0.0\n",
       "3                0.0\n",
       "4                1.0"
      ]
     },
     "execution_count": 9,
     "metadata": {},
     "output_type": "execute_result"
    }
   ],
   "source": [
    "from sklearn.preprocessing import OneHotEncoder\n",
    "### WRITE CODE TO PERFORM ONE-HOT CODING ON \"Year\" AND \"Status\" ###\n",
    "encoder = OneHotEncoder(drop = 'first')\n",
    "df_train_Year_encoded = pd.DataFrame(encoder.fit_transform(df_train[['Year']]).toarray(), columns = encoder.get_feature_names(['Year']))\n",
    "df_train_Status_encoded = pd.DataFrame(encoder.fit_transform(df_train[['Status']]).toarray(), columns = encoder.get_feature_names(['Status']))\n",
    "df_test_Year_encoded = pd.DataFrame(encoder.fit_transform(df_train[['Year']]).toarray(), columns = encoder.get_feature_names(['Year']))\n",
    "df_test_Status_encoded = pd.DataFrame(encoder.fit_transform(df_train[['Status']]).toarray(), columns = encoder.get_feature_names(['Status']))\n",
    "# Print the shape of your encoded X\n",
    "print(f'Shape of Year Train Data : {df_train_Year_encoded.shape}')\n",
    "print(f'Shape of Status Train Data : {df_train_Status_encoded.shape}')\n",
    "print(f'Shape of Year Test Data : {df_test_Year_encoded.shape}')\n",
    "print(f'Shape of Status Test Data : {df_test_Status_encoded.shape}')\n",
    "\n",
    "df_test_Status_encoded.head()"
   ]
  },
  {
   "cell_type": "markdown",
   "metadata": {
    "id": "IvbDqp5bJ-Xx"
   },
   "source": [
    "Q7. What are the advantages and disadvantages of using One-hot encoding?\n",
    "\n",
    "Ans- <br>\n",
    "Advantages <br>\n",
    "1) One-Hot-Encoding has the advantage that the result is binary rather than ordinal and that everything sits in an orthogonal vector space. <br> \n",
    "2) For categorical features with low number of categories, one-hot-encoding works well as the number of dimensions added is not many and the information is still contained within those dimensions.<br><br>\n",
    "Disadvantages <br> \n",
    "1) The disadvantage is that for high cardinality, the feature space can really blow up quickly and you start fighting with the curse of dimensionality.<br>\n",
    "2) If the number of categories is high for a feature, you end up with a high number of dimensions with ones occasionally dotting a sea of zeroes. This results in an exceptionally sparse landscape, which makes it hard to grapple with optimization. "
   ]
  },
  {
   "cell_type": "markdown",
   "metadata": {
    "id": "Fp5S0WizKI0g"
   },
   "source": [
    "## Multiple Linear Regression\n",
    "\n",
    "In the big data era, it is highly unlikely that we are interested in the effect of a single variable on another. To simultaneously account for the effects of multiple variables, we use multiple regression (which accounts for the covariances between predictors).\n",
    "\n",
    "While the algorithmic solution to multiple regression exists, it is easier to conceptualize in terms of linear algebra. The optimal $\\hat{\\beta}$ vector that minimizes the residual sum of squares is:\n",
    "\n",
    "$\\hat{\\beta} = (X^TX)^{-1}X^Ty $\n",
    "\n",
    "\n",
    "Perform multiple linear regression on the training dataset, where the outcome is \"Life_expectancy\"."
   ]
  },
  {
   "cell_type": "code",
   "execution_count": 10,
   "metadata": {
    "id": "3-saM1rTKjKH"
   },
   "outputs": [],
   "source": [
    "from sklearn.linear_model import LinearRegression"
   ]
  },
  {
   "cell_type": "code",
   "execution_count": 11,
   "metadata": {
    "id": "GTfbR3b-KoeW"
   },
   "outputs": [
    {
     "data": {
      "text/html": [
       "<div>\n",
       "<style scoped>\n",
       "    .dataframe tbody tr th:only-of-type {\n",
       "        vertical-align: middle;\n",
       "    }\n",
       "\n",
       "    .dataframe tbody tr th {\n",
       "        vertical-align: top;\n",
       "    }\n",
       "\n",
       "    .dataframe thead th {\n",
       "        text-align: right;\n",
       "    }\n",
       "</style>\n",
       "<table border=\"1\" class=\"dataframe\">\n",
       "  <thead>\n",
       "    <tr style=\"text-align: right;\">\n",
       "      <th></th>\n",
       "      <th>Predicted Life Expectancy</th>\n",
       "    </tr>\n",
       "  </thead>\n",
       "  <tbody>\n",
       "    <tr>\n",
       "      <th>0</th>\n",
       "      <td>74.571327</td>\n",
       "    </tr>\n",
       "    <tr>\n",
       "      <th>1</th>\n",
       "      <td>71.883044</td>\n",
       "    </tr>\n",
       "    <tr>\n",
       "      <th>2</th>\n",
       "      <td>78.169860</td>\n",
       "    </tr>\n",
       "    <tr>\n",
       "      <th>3</th>\n",
       "      <td>75.988897</td>\n",
       "    </tr>\n",
       "    <tr>\n",
       "      <th>4</th>\n",
       "      <td>67.963980</td>\n",
       "    </tr>\n",
       "  </tbody>\n",
       "</table>\n",
       "</div>"
      ],
      "text/plain": [
       "   Predicted Life Expectancy\n",
       "0                  74.571327\n",
       "1                  71.883044\n",
       "2                  78.169860\n",
       "3                  75.988897\n",
       "4                  67.963980"
      ]
     },
     "execution_count": 11,
     "metadata": {},
     "output_type": "execute_result"
    }
   ],
   "source": [
    "### Bulding and fitting the Multiple Linear Regression model###\n",
    "mlr = LinearRegression()\n",
    "df_for_regression = pd.concat([df_train_wo_categories_scaled, df_train_Year_encoded, df_train_Status_encoded], axis = 1)\n",
    "mlr.fit(df_for_regression, df_train[['Life_expectancy']])\n",
    "Life_expectancy_pred = mlr.predict(df_for_regression)\n",
    "#print(type(Life_expectancy_pred))\n",
    "df_Life_expectancy_pred = pd.DataFrame(Life_expectancy_pred, columns = ['Predicted Life Expectancy'])\n",
    "df_Life_expectancy_pred.head()"
   ]
  },
  {
   "cell_type": "code",
   "execution_count": 12,
   "metadata": {},
   "outputs": [
    {
     "data": {
      "text/html": [
       "<div>\n",
       "<style scoped>\n",
       "    .dataframe tbody tr th:only-of-type {\n",
       "        vertical-align: middle;\n",
       "    }\n",
       "\n",
       "    .dataframe tbody tr th {\n",
       "        vertical-align: top;\n",
       "    }\n",
       "\n",
       "    .dataframe thead th {\n",
       "        text-align: right;\n",
       "    }\n",
       "</style>\n",
       "<table border=\"1\" class=\"dataframe\">\n",
       "  <thead>\n",
       "    <tr style=\"text-align: right;\">\n",
       "      <th></th>\n",
       "      <th>True Life Expectancy</th>\n",
       "    </tr>\n",
       "  </thead>\n",
       "  <tbody>\n",
       "    <tr>\n",
       "      <th>0</th>\n",
       "      <td>75.0</td>\n",
       "    </tr>\n",
       "    <tr>\n",
       "      <th>1</th>\n",
       "      <td>74.6</td>\n",
       "    </tr>\n",
       "    <tr>\n",
       "      <th>2</th>\n",
       "      <td>81.1</td>\n",
       "    </tr>\n",
       "    <tr>\n",
       "      <th>3</th>\n",
       "      <td>74.8</td>\n",
       "    </tr>\n",
       "    <tr>\n",
       "      <th>4</th>\n",
       "      <td>71.4</td>\n",
       "    </tr>\n",
       "  </tbody>\n",
       "</table>\n",
       "</div>"
      ],
      "text/plain": [
       "   True Life Expectancy\n",
       "0                  75.0\n",
       "1                  74.6\n",
       "2                  81.1\n",
       "3                  74.8\n",
       "4                  71.4"
      ]
     },
     "execution_count": 12,
     "metadata": {},
     "output_type": "execute_result"
    }
   ],
   "source": [
    "df_Life_expectancy_true = df_train['Life_expectancy'].to_frame(name = 'True Life Expectancy')\n",
    "df_Life_expectancy_true.head()"
   ]
  },
  {
   "cell_type": "code",
   "execution_count": 13,
   "metadata": {},
   "outputs": [
    {
     "data": {
      "text/html": [
       "<div>\n",
       "<style scoped>\n",
       "    .dataframe tbody tr th:only-of-type {\n",
       "        vertical-align: middle;\n",
       "    }\n",
       "\n",
       "    .dataframe tbody tr th {\n",
       "        vertical-align: top;\n",
       "    }\n",
       "\n",
       "    .dataframe thead th {\n",
       "        text-align: right;\n",
       "    }\n",
       "</style>\n",
       "<table border=\"1\" class=\"dataframe\">\n",
       "  <thead>\n",
       "    <tr style=\"text-align: right;\">\n",
       "      <th></th>\n",
       "      <th>Adult_Mortality</th>\n",
       "      <th>Alcohol</th>\n",
       "      <th>percentage_expenditure</th>\n",
       "      <th>BMI</th>\n",
       "      <th>Total_expenditure</th>\n",
       "      <th>Diphtheria</th>\n",
       "      <th>HIV_AIDS</th>\n",
       "      <th>GDP</th>\n",
       "      <th>Population</th>\n",
       "      <th>Income_composition_of_resources</th>\n",
       "      <th>...</th>\n",
       "      <th>Year_2007</th>\n",
       "      <th>Year_2008</th>\n",
       "      <th>Year_2009</th>\n",
       "      <th>Year_2010</th>\n",
       "      <th>Year_2011</th>\n",
       "      <th>Year_2012</th>\n",
       "      <th>Year_2013</th>\n",
       "      <th>Year_2014</th>\n",
       "      <th>Year_2015</th>\n",
       "      <th>Status_Developing</th>\n",
       "    </tr>\n",
       "  </thead>\n",
       "  <tbody>\n",
       "    <tr>\n",
       "      <th>0</th>\n",
       "      <td>-0.596230</td>\n",
       "      <td>-0.746122</td>\n",
       "      <td>0.058789</td>\n",
       "      <td>1.260316</td>\n",
       "      <td>0.455246</td>\n",
       "      <td>-0.172026</td>\n",
       "      <td>-0.304462</td>\n",
       "      <td>0.244064</td>\n",
       "      <td>-0.140504</td>\n",
       "      <td>0.668903</td>\n",
       "      <td>...</td>\n",
       "      <td>0.0</td>\n",
       "      <td>0.0</td>\n",
       "      <td>0.0</td>\n",
       "      <td>0.0</td>\n",
       "      <td>1.0</td>\n",
       "      <td>0.0</td>\n",
       "      <td>0.0</td>\n",
       "      <td>0.0</td>\n",
       "      <td>0.0</td>\n",
       "      <td>1.0</td>\n",
       "    </tr>\n",
       "    <tr>\n",
       "      <th>1</th>\n",
       "      <td>-0.111399</td>\n",
       "      <td>0.462190</td>\n",
       "      <td>0.033498</td>\n",
       "      <td>-0.333480</td>\n",
       "      <td>-0.836894</td>\n",
       "      <td>0.686328</td>\n",
       "      <td>-0.304462</td>\n",
       "      <td>0.011425</td>\n",
       "      <td>0.961461</td>\n",
       "      <td>0.553909</td>\n",
       "      <td>...</td>\n",
       "      <td>0.0</td>\n",
       "      <td>0.0</td>\n",
       "      <td>0.0</td>\n",
       "      <td>0.0</td>\n",
       "      <td>0.0</td>\n",
       "      <td>0.0</td>\n",
       "      <td>0.0</td>\n",
       "      <td>1.0</td>\n",
       "      <td>0.0</td>\n",
       "      <td>1.0</td>\n",
       "    </tr>\n",
       "    <tr>\n",
       "      <th>2</th>\n",
       "      <td>-0.801666</td>\n",
       "      <td>1.812804</td>\n",
       "      <td>-0.350645</td>\n",
       "      <td>0.887085</td>\n",
       "      <td>2.186713</td>\n",
       "      <td>0.495582</td>\n",
       "      <td>-0.304462</td>\n",
       "      <td>-0.437269</td>\n",
       "      <td>-0.073327</td>\n",
       "      <td>1.375298</td>\n",
       "      <td>...</td>\n",
       "      <td>0.0</td>\n",
       "      <td>0.0</td>\n",
       "      <td>0.0</td>\n",
       "      <td>0.0</td>\n",
       "      <td>0.0</td>\n",
       "      <td>0.0</td>\n",
       "      <td>1.0</td>\n",
       "      <td>0.0</td>\n",
       "      <td>0.0</td>\n",
       "      <td>0.0</td>\n",
       "    </tr>\n",
       "    <tr>\n",
       "      <th>3</th>\n",
       "      <td>-0.251096</td>\n",
       "      <td>-1.135578</td>\n",
       "      <td>-0.399597</td>\n",
       "      <td>1.053526</td>\n",
       "      <td>-0.212360</td>\n",
       "      <td>0.447896</td>\n",
       "      <td>-0.304462</td>\n",
       "      <td>-0.482448</td>\n",
       "      <td>-0.185208</td>\n",
       "      <td>0.882465</td>\n",
       "      <td>...</td>\n",
       "      <td>0.0</td>\n",
       "      <td>0.0</td>\n",
       "      <td>0.0</td>\n",
       "      <td>0.0</td>\n",
       "      <td>0.0</td>\n",
       "      <td>0.0</td>\n",
       "      <td>0.0</td>\n",
       "      <td>1.0</td>\n",
       "      <td>0.0</td>\n",
       "      <td>0.0</td>\n",
       "    </tr>\n",
       "    <tr>\n",
       "      <th>4</th>\n",
       "      <td>0.217300</td>\n",
       "      <td>0.342358</td>\n",
       "      <td>-0.385264</td>\n",
       "      <td>-1.856665</td>\n",
       "      <td>-1.017793</td>\n",
       "      <td>0.543269</td>\n",
       "      <td>-0.198197</td>\n",
       "      <td>-0.458771</td>\n",
       "      <td>-0.107964</td>\n",
       "      <td>0.115834</td>\n",
       "      <td>...</td>\n",
       "      <td>0.0</td>\n",
       "      <td>0.0</td>\n",
       "      <td>0.0</td>\n",
       "      <td>0.0</td>\n",
       "      <td>0.0</td>\n",
       "      <td>0.0</td>\n",
       "      <td>0.0</td>\n",
       "      <td>0.0</td>\n",
       "      <td>0.0</td>\n",
       "      <td>1.0</td>\n",
       "    </tr>\n",
       "  </tbody>\n",
       "</table>\n",
       "<p>5 rows × 27 columns</p>\n",
       "</div>"
      ],
      "text/plain": [
       "   Adult_Mortality   Alcohol  percentage_expenditure       BMI  \\\n",
       "0        -0.596230 -0.746122                0.058789  1.260316   \n",
       "1        -0.111399  0.462190                0.033498 -0.333480   \n",
       "2        -0.801666  1.812804               -0.350645  0.887085   \n",
       "3        -0.251096 -1.135578               -0.399597  1.053526   \n",
       "4         0.217300  0.342358               -0.385264 -1.856665   \n",
       "\n",
       "   Total_expenditure  Diphtheria  HIV_AIDS       GDP  Population  \\\n",
       "0           0.455246   -0.172026 -0.304462  0.244064   -0.140504   \n",
       "1          -0.836894    0.686328 -0.304462  0.011425    0.961461   \n",
       "2           2.186713    0.495582 -0.304462 -0.437269   -0.073327   \n",
       "3          -0.212360    0.447896 -0.304462 -0.482448   -0.185208   \n",
       "4          -1.017793    0.543269 -0.198197 -0.458771   -0.107964   \n",
       "\n",
       "   Income_composition_of_resources  ...  Year_2007  Year_2008  Year_2009  \\\n",
       "0                         0.668903  ...        0.0        0.0        0.0   \n",
       "1                         0.553909  ...        0.0        0.0        0.0   \n",
       "2                         1.375298  ...        0.0        0.0        0.0   \n",
       "3                         0.882465  ...        0.0        0.0        0.0   \n",
       "4                         0.115834  ...        0.0        0.0        0.0   \n",
       "\n",
       "   Year_2010  Year_2011  Year_2012  Year_2013  Year_2014  Year_2015  \\\n",
       "0        0.0        1.0        0.0        0.0        0.0        0.0   \n",
       "1        0.0        0.0        0.0        0.0        1.0        0.0   \n",
       "2        0.0        0.0        0.0        1.0        0.0        0.0   \n",
       "3        0.0        0.0        0.0        0.0        1.0        0.0   \n",
       "4        0.0        0.0        0.0        0.0        0.0        0.0   \n",
       "\n",
       "   Status_Developing  \n",
       "0                1.0  \n",
       "1                1.0  \n",
       "2                0.0  \n",
       "3                0.0  \n",
       "4                1.0  \n",
       "\n",
       "[5 rows x 27 columns]"
      ]
     },
     "execution_count": 13,
     "metadata": {},
     "output_type": "execute_result"
    }
   ],
   "source": [
    "df_for_regression.head()"
   ]
  },
  {
   "cell_type": "markdown",
   "metadata": {},
   "source": [
    "### Comparing True & Predicted Life Expectancy"
   ]
  },
  {
   "cell_type": "code",
   "execution_count": 14,
   "metadata": {},
   "outputs": [
    {
     "data": {
      "image/png": "[encoded data removed]",
      "text/plain": [
       "<Figure size 720x360 with 1 Axes>"
      ]
     },
     "metadata": {
      "needs_background": "light"
     },
     "output_type": "display_data"
    }
   ],
   "source": [
    "ax = df_Life_expectancy_true.plot(kind = 'density', figsize = (10,5))\n",
    "df_Life_expectancy_pred.plot(kind = 'density', figsize = (10,5), ax = ax)\n",
    "plt.show()"
   ]
  },
  {
   "cell_type": "code",
   "execution_count": 15,
   "metadata": {
    "id": "FpQe-p3LLXgA"
   },
   "outputs": [
    {
     "name": "stdout",
     "output_type": "stream",
     "text": [
      "12.965318722949506\n"
     ]
    }
   ],
   "source": [
    "### Evaluate the Linear Regression model by computing MSE on the training set###\n",
    "from sklearn.metrics import mean_squared_error\n",
    "\n",
    "mse = mean_squared_error(y_pred = Life_expectancy_pred, y_true = df_train['Life_expectancy'])\n",
    "print(mse)"
   ]
  },
  {
   "cell_type": "markdown",
   "metadata": {
    "id": "O2jOEvNiO84E"
   },
   "source": [
    "Q8. Print the value of coefficients and also the corresponding variable names for the coefficients."
   ]
  },
  {
   "cell_type": "code",
   "execution_count": 16,
   "metadata": {},
   "outputs": [
    {
     "data": {
      "text/html": [
       "<div>\n",
       "<style scoped>\n",
       "    .dataframe tbody tr th:only-of-type {\n",
       "        vertical-align: middle;\n",
       "    }\n",
       "\n",
       "    .dataframe tbody tr th {\n",
       "        vertical-align: top;\n",
       "    }\n",
       "\n",
       "    .dataframe thead th {\n",
       "        text-align: right;\n",
       "    }\n",
       "</style>\n",
       "<table border=\"1\" class=\"dataframe\">\n",
       "  <thead>\n",
       "    <tr style=\"text-align: right;\">\n",
       "      <th></th>\n",
       "      <th>0</th>\n",
       "      <th>Coefs</th>\n",
       "    </tr>\n",
       "  </thead>\n",
       "  <tbody>\n",
       "    <tr>\n",
       "      <th>0</th>\n",
       "      <td>Adult_Mortality</td>\n",
       "      <td>-2.056002</td>\n",
       "    </tr>\n",
       "    <tr>\n",
       "      <th>1</th>\n",
       "      <td>Alcohol</td>\n",
       "      <td>-0.490003</td>\n",
       "    </tr>\n",
       "    <tr>\n",
       "      <th>2</th>\n",
       "      <td>percentage_expenditure</td>\n",
       "      <td>0.552403</td>\n",
       "    </tr>\n",
       "    <tr>\n",
       "      <th>3</th>\n",
       "      <td>BMI</td>\n",
       "      <td>0.725747</td>\n",
       "    </tr>\n",
       "    <tr>\n",
       "      <th>4</th>\n",
       "      <td>Total_expenditure</td>\n",
       "      <td>0.227959</td>\n",
       "    </tr>\n",
       "    <tr>\n",
       "      <th>5</th>\n",
       "      <td>Diphtheria</td>\n",
       "      <td>0.456559</td>\n",
       "    </tr>\n",
       "    <tr>\n",
       "      <th>6</th>\n",
       "      <td>HIV_AIDS</td>\n",
       "      <td>-2.666912</td>\n",
       "    </tr>\n",
       "    <tr>\n",
       "      <th>7</th>\n",
       "      <td>GDP</td>\n",
       "      <td>0.231527</td>\n",
       "    </tr>\n",
       "    <tr>\n",
       "      <th>8</th>\n",
       "      <td>Population</td>\n",
       "      <td>-0.055062</td>\n",
       "    </tr>\n",
       "    <tr>\n",
       "      <th>9</th>\n",
       "      <td>Income_composition_of_resources</td>\n",
       "      <td>2.043052</td>\n",
       "    </tr>\n",
       "    <tr>\n",
       "      <th>10</th>\n",
       "      <td>Schooling</td>\n",
       "      <td>2.652766</td>\n",
       "    </tr>\n",
       "    <tr>\n",
       "      <th>11</th>\n",
       "      <td>Year_2001</td>\n",
       "      <td>-0.814167</td>\n",
       "    </tr>\n",
       "    <tr>\n",
       "      <th>12</th>\n",
       "      <td>Year_2002</td>\n",
       "      <td>-1.066125</td>\n",
       "    </tr>\n",
       "    <tr>\n",
       "      <th>13</th>\n",
       "      <td>Year_2003</td>\n",
       "      <td>-0.775007</td>\n",
       "    </tr>\n",
       "    <tr>\n",
       "      <th>14</th>\n",
       "      <td>Year_2004</td>\n",
       "      <td>-1.062115</td>\n",
       "    </tr>\n",
       "    <tr>\n",
       "      <th>15</th>\n",
       "      <td>Year_2005</td>\n",
       "      <td>-1.080476</td>\n",
       "    </tr>\n",
       "    <tr>\n",
       "      <th>16</th>\n",
       "      <td>Year_2006</td>\n",
       "      <td>-1.374431</td>\n",
       "    </tr>\n",
       "    <tr>\n",
       "      <th>17</th>\n",
       "      <td>Year_2007</td>\n",
       "      <td>-1.380031</td>\n",
       "    </tr>\n",
       "    <tr>\n",
       "      <th>18</th>\n",
       "      <td>Year_2008</td>\n",
       "      <td>-1.697992</td>\n",
       "    </tr>\n",
       "    <tr>\n",
       "      <th>19</th>\n",
       "      <td>Year_2009</td>\n",
       "      <td>-1.997980</td>\n",
       "    </tr>\n",
       "    <tr>\n",
       "      <th>20</th>\n",
       "      <td>Year_2010</td>\n",
       "      <td>-2.143772</td>\n",
       "    </tr>\n",
       "    <tr>\n",
       "      <th>21</th>\n",
       "      <td>Year_2011</td>\n",
       "      <td>-2.384259</td>\n",
       "    </tr>\n",
       "    <tr>\n",
       "      <th>22</th>\n",
       "      <td>Year_2012</td>\n",
       "      <td>-2.303672</td>\n",
       "    </tr>\n",
       "    <tr>\n",
       "      <th>23</th>\n",
       "      <td>Year_2013</td>\n",
       "      <td>-2.391457</td>\n",
       "    </tr>\n",
       "    <tr>\n",
       "      <th>24</th>\n",
       "      <td>Year_2014</td>\n",
       "      <td>-2.443195</td>\n",
       "    </tr>\n",
       "    <tr>\n",
       "      <th>25</th>\n",
       "      <td>Year_2015</td>\n",
       "      <td>-0.410600</td>\n",
       "    </tr>\n",
       "    <tr>\n",
       "      <th>26</th>\n",
       "      <td>Status_Developing</td>\n",
       "      <td>-0.563332</td>\n",
       "    </tr>\n",
       "  </tbody>\n",
       "</table>\n",
       "</div>"
      ],
      "text/plain": [
       "                                  0     Coefs\n",
       "0                   Adult_Mortality -2.056002\n",
       "1                           Alcohol -0.490003\n",
       "2            percentage_expenditure  0.552403\n",
       "3                               BMI  0.725747\n",
       "4                 Total_expenditure  0.227959\n",
       "5                        Diphtheria  0.456559\n",
       "6                          HIV_AIDS -2.666912\n",
       "7                               GDP  0.231527\n",
       "8                        Population -0.055062\n",
       "9   Income_composition_of_resources  2.043052\n",
       "10                        Schooling  2.652766\n",
       "11                        Year_2001 -0.814167\n",
       "12                        Year_2002 -1.066125\n",
       "13                        Year_2003 -0.775007\n",
       "14                        Year_2004 -1.062115\n",
       "15                        Year_2005 -1.080476\n",
       "16                        Year_2006 -1.374431\n",
       "17                        Year_2007 -1.380031\n",
       "18                        Year_2008 -1.697992\n",
       "19                        Year_2009 -1.997980\n",
       "20                        Year_2010 -2.143772\n",
       "21                        Year_2011 -2.384259\n",
       "22                        Year_2012 -2.303672\n",
       "23                        Year_2013 -2.391457\n",
       "24                        Year_2014 -2.443195\n",
       "25                        Year_2015 -0.410600\n",
       "26                Status_Developing -0.563332"
      ]
     },
     "execution_count": 16,
     "metadata": {},
     "output_type": "execute_result"
    }
   ],
   "source": [
    "#mlr.coef_\n",
    "coef_table = pd.DataFrame(list(df_for_regression.columns)).copy()\n",
    "coef_table.insert(len(coef_table.columns),\"Coefs\",mlr.coef_.transpose())\n",
    "coef_table"
   ]
  },
  {
   "cell_type": "markdown",
   "metadata": {
    "id": "q18iLjtHX25r"
   },
   "source": [
    "Q9. Is there a problem of multicolinearity? Explain what you can do\n",
    "\n",
    "Ans- <br>\n",
    "Yes, there is a problem of multicollinearity. <br>\n",
    "Multicollinearity exists when multiple features in the data are correlated with themselves. <br>\n",
    "From the correlation heatmap of existing training features, we can see multiple features having high correlation within themselves. <br>\n",
    "For example, features like GDP and Percentage_of_expenditures have a correlation of 0.96 which is very high and one of the features must be dropped in order for the model to predict better. <br>"
   ]
  },
  {
   "cell_type": "markdown",
   "metadata": {
    "id": "FJ51d6d2YyPp"
   },
   "source": [
    "### Goodness of fit\n",
    "\n",
    "A model can always make predictions. But it is important to determine how good the model is.\n",
    "How do we know that our model captures the data well? When evaluating model fit, a good metric is $R^2$, which corresponds to the amount of variance explained by the model. The formula for $R^2$ is the following:\n",
    "\n",
    "$R^2$ = $1 - \\dfrac{RSS}{TSS}$<br/>\n",
    "where:<br/>\n",
    "$RSS = \\Sigma(y - \\hat{y})^2$<br/>\n",
    "$TSS = \\Sigma(y - \\bar{y})^2$<br/>\n",
    "\n",
    "$R^2$ is also one metric for comparing models against each other. It is intuitive to say that the model that explains more variation in the data is a better fit than one that explains less variation. \n",
    "\n",
    "Fill in the code for calculation of R2 score "
   ]
  },
  {
   "cell_type": "code",
   "execution_count": 17,
   "metadata": {
    "id": "Hr0giuHXY4J5"
   },
   "outputs": [],
   "source": [
    "from sklearn.metrics import r2_score"
   ]
  },
  {
   "cell_type": "markdown",
   "metadata": {
    "id": "kFiC_mfgY7m1"
   },
   "source": [
    "$R^2$ for model with \"Schooling\" as predictor and \"Life_expectancy\" as outcome"
   ]
  },
  {
   "cell_type": "code",
   "execution_count": 18,
   "metadata": {
    "id": "LIspp_FPaicb"
   },
   "outputs": [
    {
     "data": {
      "text/plain": [
       "0.5575121346397232"
      ]
     },
     "execution_count": 18,
     "metadata": {},
     "output_type": "execute_result"
    }
   ],
   "source": [
    "### WRITE CODE ###\n",
    "slr = LinearRegression()\n",
    "slr.fit(df_train_wo_categories_scaled[['Schooling']], df_train[['Life_expectancy']])\n",
    "Life_expectancy_pred_slr1 = slr.predict(df_train_wo_categories_scaled[['Schooling']])\n",
    "# Print R2 score\n",
    "r2_score(df_train.Life_expectancy, Life_expectancy_pred_slr1)"
   ]
  },
  {
   "cell_type": "markdown",
   "metadata": {
    "id": "5fGTnWcobCc_"
   },
   "source": [
    "$R^2$ for model with \"Schooling\", \"Adult_Mortality\" as predictor and \"Life_expectancy\" as outcome"
   ]
  },
  {
   "cell_type": "code",
   "execution_count": 19,
   "metadata": {
    "id": "XqBXqRZlbjy7"
   },
   "outputs": [
    {
     "data": {
      "text/plain": [
       "0.7223314341007621"
      ]
     },
     "execution_count": 19,
     "metadata": {},
     "output_type": "execute_result"
    }
   ],
   "source": [
    "### WRITE CODE ###\n",
    "slr2 = LinearRegression()\n",
    "slr2.fit(df_train_wo_categories_scaled[['Schooling','Adult_Mortality']], df_train[['Life_expectancy']])\n",
    "Life_expectancy_pred_slr2 = slr2.predict(df_train_wo_categories_scaled[['Schooling','Adult_Mortality']])\n",
    "# Print R2 score\n",
    "r2_score(df_train.Life_expectancy, Life_expectancy_pred_slr2)"
   ]
  },
  {
   "cell_type": "markdown",
   "metadata": {
    "id": "dE1PDtR0bVdX"
   },
   "source": [
    "$R^2$ for model with \"Schooling\",\"Adult_Mortality\" and \"Population\" as predictor and \"Life_expectancy\" as outcome"
   ]
  },
  {
   "cell_type": "code",
   "execution_count": 20,
   "metadata": {
    "id": "5WxDGrKqbyR2"
   },
   "outputs": [
    {
     "data": {
      "text/plain": [
       "0.7223745101723086"
      ]
     },
     "execution_count": 20,
     "metadata": {},
     "output_type": "execute_result"
    }
   ],
   "source": [
    "### WRITE CODE ###\n",
    "slr3 = LinearRegression()\n",
    "slr3.fit(df_train_wo_categories_scaled[['Schooling','Adult_Mortality','Population']], df_train[['Life_expectancy']])\n",
    "Life_expectancy_pred_slr3 = slr3.predict(df_train_wo_categories_scaled[['Schooling','Adult_Mortality','Population']])\n",
    "# Print R2 score\n",
    "r2_score(df_train.Life_expectancy, Life_expectancy_pred_slr3)"
   ]
  },
  {
   "cell_type": "markdown",
   "metadata": {
    "id": "vYdvN1CTcMuN"
   },
   "source": [
    "You can see $R^2$ is always going up as we keep adding features.\n",
    "\n",
    "This is one drawback of only using $R^2$ to evaluate your model. Adding predictors seems to always improve the predictive ability of your model, though it may not be true.\n",
    "\n",
    "That is to say, we are not necessarily interested in making a perfect prediciton of our training data. If we were, we would always use all of the predictors available. Rather, we would like to make a perfect prediction of our test data. In this case, adding all the predictors may not be a good idea due to the trade-off between bias and variance. Thus, we are interested in the most predictive features, in the hopes that we can create a simpler model that performs well in the future.\n",
    "\n",
    "This is why we consider another metric, Adjusted R2.\n",
    "The adjusted R-squared increases only if the new term improves the model more than would be expected by chance.\n",
    "\n",
    "\n",
    "$AdjustedR^2$ = $1 - \\dfrac{(1-R^2)(n-1)}{(n-k-1)}$<br/>\n",
    "where:<br/>\n",
    "n = number of samples<br/>\n",
    "k = number of features\n",
    "\n",
    "Fill in the code for calculation of adjusted R2 score"
   ]
  },
  {
   "cell_type": "markdown",
   "metadata": {
    "id": "CCqEwoDNcOgb"
   },
   "source": [
    "Adjusted $R^2$ for model with \"Schooling\" as predictor and \"Life_expectancy\" as outcome"
   ]
  },
  {
   "cell_type": "code",
   "execution_count": 21,
   "metadata": {
    "id": "mCgTtpskch0n"
   },
   "outputs": [
    {
     "data": {
      "text/plain": [
       "0.5579960861454869"
      ]
     },
     "execution_count": 21,
     "metadata": {},
     "output_type": "execute_result"
    }
   ],
   "source": [
    "### WRITE CODE ###\n",
    "def calculate_adj_r2(y_pred, y_true, x_values):\n",
    "    try:\n",
    "        x_dim = x_values.shape[1]\n",
    "    except:\n",
    "        x_dim = 1\n",
    "    \n",
    "    adj_r2 = 1 - (1-r2_score(y_true, y_pred) * (len(y_true)-1) / (len(y_true) - x_dim - 1))\n",
    "    \n",
    "    return adj_r2\n",
    "# Print Adjusted R2 score \n",
    "calculate_adj_r2(Life_expectancy_pred_slr1, df_train.Life_expectancy, df_train_wo_categories_scaled[['Schooling']])"
   ]
  },
  {
   "cell_type": "markdown",
   "metadata": {
    "id": "cKLKf_ODc842"
   },
   "source": [
    "Adjusted $R^2$ for model with \"Schooling\", \"Adult_Mortality\" as predictor and \"Life_expectancy\" as outcome."
   ]
  },
  {
   "cell_type": "code",
   "execution_count": 22,
   "metadata": {
    "id": "n6j0eaIxdFoD"
   },
   "outputs": [
    {
     "data": {
      "text/plain": [
       "0.7235865712581917"
      ]
     },
     "execution_count": 22,
     "metadata": {},
     "output_type": "execute_result"
    }
   ],
   "source": [
    "### WRITE CODE ###\n",
    "calculate_adj_r2(Life_expectancy_pred_slr2, df_train.Life_expectancy, df_train_wo_categories_scaled[['Schooling','Adult_Mortality']])\n",
    "# Print Adjusted R2 score"
   ]
  },
  {
   "cell_type": "markdown",
   "metadata": {
    "id": "R3oT1NbDdRcK"
   },
   "source": [
    "Adjusted $R^2$ for model with \"Schooling\",\"Adult_Mortality\" and \"Population\" as predictor and \"Life_expectancy\" as outcome"
   ]
  },
  {
   "cell_type": "code",
   "execution_count": 23,
   "metadata": {
    "id": "KLOFJL2LdVEz"
   },
   "outputs": [
    {
     "data": {
      "text/plain": [
       "0.7242589654162364"
      ]
     },
     "execution_count": 23,
     "metadata": {},
     "output_type": "execute_result"
    }
   ],
   "source": [
    "### WRITE CODE ###\n",
    "\n",
    "# Print Adjusted R2 score\n",
    "calculate_adj_r2(Life_expectancy_pred_slr3, df_train.Life_expectancy, df_train_wo_categories_scaled[['Schooling','Adult_Mortality','Population']])"
   ]
  },
  {
   "cell_type": "markdown",
   "metadata": {
    "id": "HDHU67n8d4x7"
   },
   "source": [
    "### K-fold Cross-Validation\n",
    "\n",
    "However, adjusted $R^2$ is not enough to help us ahieve the best model, a more robust method is k-fold cross-validation.\n",
    "\n",
    "* Randomly split dataset into K equal-sized subsets, or folds\n",
    "* Treat each fold as validation set (train on all but K'th fold and test on K'th fold only)\n",
    "\n",
    "* The overall error is then the mean error over all K models.\n",
    "* Most common are 5- or 10-fold cross-validation\n",
    "\n",
    "Please implement a 5-fold cross-validation by yourselves to find the best model in terms of Mean Square Error(MSE)\n",
    "\n",
    "**Do not use sklearn.model_selection.cross_val_score or other built-in cross-validaiton functions**"
   ]
  },
  {
   "cell_type": "code",
   "execution_count": 24,
   "metadata": {
    "id": "QnbM2CcZFhWs"
   },
   "outputs": [],
   "source": [
    "# Design a function to implement 5-fold cross-validation. \n",
    "# The input: training features X, training target y and # of folds f=5.\n",
    "# The output: the average of MSE over the 5 folds.\n",
    "from sklearn.utils import shuffle\n",
    "import math\n",
    "def cross_val_mse(X, y, f):\n",
    "    ### Write your code here ###\n",
    "    \n",
    "    #Shuffling rows in the both X and Y at the same time\n",
    "    X_shuffled, Y_shuffled = shuffle(X, y)\n",
    "    total_row_count = X.shape[0]\n",
    "    all_rows = list(range(total_row_count))\n",
    "    mse_vals = []\n",
    "    \n",
    "    #print(X_shuffled.head())\n",
    "    #print(Y_shuffled.head())\n",
    "    \n",
    "    for i in range(f):\n",
    "        \n",
    "        #Finding the upper and lower limits of each fold\n",
    "        lower_lim = i * int(math.ceil(total_row_count/f))\n",
    "        upper_lim = min(((i+1) * int(math.ceil(total_row_count/f))), total_row_count-1)\n",
    "        \n",
    "        #print(lower_lim)\n",
    "        #print(upper_lim)\n",
    "        \n",
    "        #Getting rows for each subset/fold\n",
    "        validated_rows = list(range(lower_lim,upper_lim, 1))\n",
    "        train_rows = [x for x in all_rows if x not in validated_rows]\n",
    "        \n",
    "        #print(X_validated_rows)\n",
    "        #print(X_train_rows)\n",
    "        \n",
    "        #Grabbing the subset of rows for validation and training set for Cross Validation\n",
    "        X_validation_df = X_shuffled.iloc[validated_rows,]\n",
    "        X_train_df = X_shuffled.iloc[train_rows,]\n",
    "        \n",
    "        Y_validation_df = Y_shuffled.iloc[validated_rows,]\n",
    "        Y_train_df = Y_shuffled.iloc[train_rows,]\n",
    "        \n",
    "        #print(X_validation_df.head())\n",
    "        #print(X_train_df.head())\n",
    "        \n",
    "        #Building the linear regression model on above obtained subsets\n",
    "        linear_regressor = LinearRegression().fit(X_train_df, Y_train_df)\n",
    "        y_pred = linear_regressor.predict(X_validation_df)\n",
    "        mse_vals.append(mean_squared_error(Y_validation_df,y_pred))\n",
    "        \n",
    "        \n",
    "        \n",
    "    return (np.mean(mse_vals))"
   ]
  },
  {
   "cell_type": "code",
   "execution_count": 25,
   "metadata": {},
   "outputs": [
    {
     "data": {
      "text/plain": [
       "13.754412578870774"
      ]
     },
     "execution_count": 25,
     "metadata": {},
     "output_type": "execute_result"
    }
   ],
   "source": [
    "cross_val_mse(df_for_regression, df_train[['Life_expectancy']], 10)"
   ]
  },
  {
   "cell_type": "code",
   "execution_count": 26,
   "metadata": {
    "id": "ZxURVCdbFuWB"
   },
   "outputs": [],
   "source": [
    "# By using your above functions, find the best combination of features, which has the lowest averaged MSE \n",
    "from itertools import combinations \n",
    "\n",
    "### Write code here ###\n",
    "\n",
    "\n",
    "#  1. Writing the generate_combinations() function to evaluate all possible combinations \n",
    "\n",
    "def generate_combinations(X, y):\n",
    "    \"\"\"\" A function which evaluates all possible combinations of features in X. \n",
    "    A linear regression model is trained which all possible combinations of features, and then the function returns\n",
    "    (A) the combination of features, (B) the avg. CV MSE, (C) the avg. CV R^2 and (D) the avg. adjusted CV R^2. \"\"\"\n",
    "    \n",
    "    # Ensure that X is a dataframe\n",
    "    df_X = pd.DataFrame(X)\n",
    "    \n",
    "    # Defining relevant variables\n",
    "    final_combinations = []\n",
    "    final_MSEs = []\n",
    "    subset = []\n",
    "    \n",
    "    # loop through all possible combinations with two columns, then all possible combinations of three columns, etc. etc.\n",
    "    for rep in range(2, len(df_X.columns)):\n",
    "        \n",
    "        print('\\n\\n\\nRepetition ', rep, ' of ', len(df_X.columns)) \n",
    "        \n",
    "        # PART 1: GENERATING COMBINATIONS \n",
    "\n",
    "        # Generate all possible combinations with i columns\n",
    "        possible_combinations = list(combinations(df_X.columns,rep))\n",
    "\n",
    "        # Loop through each possible combination\n",
    "        for combination in possible_combinations:\n",
    "            \n",
    "            if set(subset).issubset(list(combination)):\n",
    "                # Create a df_X with only those columns listed in the relevant combination\n",
    "                select_cols = []\n",
    "                for i in combination:\n",
    "                    select_cols.append(i)\n",
    "\n",
    "                df_X_combination = df_X[select_cols]\n",
    "\n",
    "                # PART 2: TRAINING THE MODEL BASED ON THE COMBINATION WITH CROSS_VAL_MSE\n",
    "                mse_value = cross_val_mse(df_X_combination, y, 5)\n",
    "\n",
    "\n",
    "                # SAVING THE COMBINATION AND CORRESPONDING MSE VALUE\n",
    "                final_combinations.append(combination)\n",
    "                final_MSEs.append(mse_value)\n",
    "            else:\n",
    "                continue\n",
    "\n",
    "    return pd.DataFrame({'combination':final_combinations, 'mse':final_MSEs})"
   ]
  },
  {
   "cell_type": "code",
   "execution_count": null,
   "metadata": {
    "id": "T3WWuFZ-eGGE"
   },
   "outputs": [
    {
     "name": "stdout",
     "output_type": "stream",
     "text": [
      "\n",
      "\n",
      "\n",
      "Repetition  2  of  27\n",
      "\n",
      "\n",
      "\n",
      "Repetition  3  of  27\n",
      "\n",
      "\n",
      "\n",
      "Repetition  4  of  27\n",
      "\n",
      "\n",
      "\n",
      "Repetition  5  of  27\n",
      "\n",
      "\n",
      "\n",
      "Repetition  6  of  27\n"
     ]
    }
   ],
   "source": [
    "# Print the best features and the corresponding mse\n",
    "### WRITE CODE ###\n",
    "combination_results = generate_combinations(df_for_regression, df_train[['Life_expectancy']]) "
   ]
  },
  {
   "cell_type": "markdown",
   "metadata": {
    "id": "F-WBDncGtiY2"
   },
   "source": [
    "### Test your model\n",
    "Now, apply your best model to predict the target values from the test feature set \"LifeExpectancy_test.csv\". We will grade this part based on your prediction error.\n",
    "\n",
    "Hint: Please be careful on standardization and one-hot encoding (if you use), the test set should be consistent with the training set in terms of any transformation.\n",
    "\n",
    "Hint2: You may want to modify the previous steps to make the transformation of the test set consistent with the training set."
   ]
  },
  {
   "cell_type": "code",
   "execution_count": null,
   "metadata": {
    "id": "tYJ-KOqzuLj2"
   },
   "outputs": [],
   "source": [
    "### WRITE CODE ###\n",
    "\n",
    "\n",
    "\n"
   ]
  },
  {
   "cell_type": "code",
   "execution_count": null,
   "metadata": {
    "id": "YAUlAuc09Uk9"
   },
   "outputs": [],
   "source": [
    "# Output your prediction on test set as y_pred.\n"
   ]
  },
  {
   "cell_type": "code",
   "execution_count": null,
   "metadata": {
    "id": "aPfqPkQ2vbq7"
   },
   "outputs": [],
   "source": [
    "#end"
   ]
  }
 ],
 "metadata": {
  "colab": {
   "collapsed_sections": [],
   "name": "MSA_401_Exercise_1.ipynb",
   "provenance": []
  },
  "kernelspec": {
   "display_name": "Python 3",
   "language": "python",
   "name": "python3"
  },
  "language_info": {
   "codemirror_mode": {
    "name": "ipython",
    "version": 3
   },
   "file_extension": ".py",
   "mimetype": "text/x-python",
   "name": "python",
   "nbconvert_exporter": "python",
   "pygments_lexer": "ipython3",
   "version": "3.8.8"
  }
 },
 "nbformat": 4,
 "nbformat_minor": 1
}
